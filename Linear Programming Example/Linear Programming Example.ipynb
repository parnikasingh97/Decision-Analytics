{
 "cells": [
  {
   "cell_type": "markdown",
   "id": "176260b7",
   "metadata": {},
   "source": [
    "## Linear Programming"
   ]
  },
  {
   "cell_type": "markdown",
   "id": "c17a5e55",
   "metadata": {},
   "source": [
    "### Sets"
   ]
  },
  {
   "cell_type": "markdown",
   "id": "824cd362",
   "metadata": {},
   "source": [
    "There are several suppliers and several segments/areas, due to which we create set of suppliers and areas. \n",
    "\n",
    "- Let $S$ be a set of suppliers.\n",
    "- Let $A$ be a set of areas. "
   ]
  },
  {
   "cell_type": "markdown",
   "id": "0d81a625",
   "metadata": {},
   "source": [
    "### Parameters"
   ]
  },
  {
   "cell_type": "markdown",
   "id": "bae6068b",
   "metadata": {},
   "source": [
    "- For each area $a \\in A$ and each supplier $s \\in S$ we are given the cost $CQA_{a,s}$ (per ton) for material A when taken from X.\n",
    "- For each area $a \\in A$ and each supplier $s \\in S$ we are given the cost $CGA_{a,s}$ (per ton) for Granular A when taken from Y. \n",
    "- For each area $a \\in A$ and each supplier $s \\in S$ we are given the cost $CQB_{a,s}$ (per ton)for Granular B when taken from X. \n",
    "- For each area $a \\in A$ we are given demand of material A $DA_a$. \n",
    "- For each area $a \\in A$ we are given demand of material B $DB_a$. \n",
    "\n",
    "\n",
    "Note: The cost includes the cost of hauling the material plus the cost of shipping to the designated area. "
   ]
  },
  {
   "cell_type": "markdown",
   "id": "ba3b45ff",
   "metadata": {},
   "source": [
    "### Variables"
   ]
  },
  {
   "cell_type": "markdown",
   "id": "6b0e6004",
   "metadata": {},
   "source": [
    "- For each area $a \\in A$ and each supplier $s \\in S$ we introduce continuous non-negative variables $XQA_{a,s}$, $XGA_{a,s}$, $XQB_{a,s}$.\n",
    "\n",
    "- $XQA_{a,s}$ describes how much we procure granular A for area $a \\in A$ from suppliers $s \\in S$ from X. \n",
    "- $XGA_{a,s}$ describes how much we procure granular A for area $a \\in A$ from supplier $s \\in S$ from Y.\n",
    "- $XQB_{a,s}$ describes how much we procure granular B for area $a \\in A$ from supplier $s \\in S$ from X.\n",
    "- $XQA_{a,s}, XGA_{a,s}, XQB_{a,s} \\geq 0 ~\\forall a \\in A, \\forall s \\in S$"
   ]
  },
  {
   "cell_type": "markdown",
   "id": "7e60869f",
   "metadata": {},
   "source": [
    "### Objective"
   ]
  },
  {
   "cell_type": "markdown",
   "id": "066e190e",
   "metadata": {},
   "source": [
    "$$min \\left( \\sum_{s \\in S} \\sum_{a \\in A} XQA_{a,s} \\cdot CQA_{a,s} + XGA_{a,s} \\cdot CGA_{a,s}+ XQB_{a,s}\\cdot CQB_{a,s}\\right)$$"
   ]
  },
  {
   "cell_type": "markdown",
   "id": "6f37c5fc",
   "metadata": {},
   "source": [
    "### Constraints"
   ]
  },
  {
   "cell_type": "markdown",
   "id": "f842f4ae",
   "metadata": {},
   "source": [
    "- No supplier would be awarded more than 50% of the total supply contract.$$ \\sum_{a \\in A} XQA_{s}+ XGA_{s}+ XQB_{s} <=0.5 * \\sum_{a \\in A}DA_{a} + DB_{a} ~\\forall s \\in S$$\n",
    "\n",
    "- Supplier 2 could only supply a maximum of 300,000 tons of materil A from X.$$\\sum_{a \\in A}XAG_{a,2}<=300,000 $$\n",
    "\n",
    "\n",
    "- Supplier 4’s total maximum capacity is about 1,000,000 tons.$$\\sum_{a \\in A} XQA_{a,4}+XGA_{a,4}+XQB_{a,4}<=1,000,000 $$\n",
    "\n",
    "- Supplier 7’s total maximum delivery capacity was 300,000 tons.$$\\sum_{a \\in A} XQA_{a,7}+XQB_{a,7}<=300,000 $$\n",
    "\n",
    "- The quantity procured of material A should satisfy the demand of material A.$$\\sum_{s \\in S} XQA_{a,s}+XGA_{a,s}= \\sum_{a \\in A}DA_a  ~\\forall a \\in A $$\n",
    "\n",
    "- The quantity procured of material B should satisfy the demand of material B. $$\\sum_{s \\in S} XQB_{a,s}= \\sum_{a \\in A} DB_a ~\\forall a \\in A $$"
   ]
  },
  {
   "cell_type": "markdown",
   "id": "e25b2c0a",
   "metadata": {},
   "source": [
    "### Implementation"
   ]
  },
  {
   "cell_type": "code",
   "execution_count": null,
   "id": "2193bcab",
   "metadata": {},
   "outputs": [],
   "source": [
    "import numpy as np\n",
    "import pandas as pd\n",
    "import gurobipy as GRB"
   ]
  },
  {
   "cell_type": "code",
   "execution_count": null,
   "id": "fbc772ef",
   "metadata": {},
   "outputs": [],
   "source": [
    "def ReadInstance(CGA_csv,CQA_csv,CQB_csv,DA_csv,DB_csv):\n",
    "    S=[]\n",
    "    for i in CQA_csv.columns[1:]:\n",
    "        if i not in S:\n",
    "            S.append(i)\n",
    "    A=[]\n",
    "    for i in CQA_csv['Area']:\n",
    "        if i not in A:\n",
    "            A.append(i)\n",
    "    \n",
    "    # Parameters\n",
    "    CQA_csv_np=CQA_csv.to_numpy()\n",
    "    CQA={}\n",
    "    count=0\n",
    "    for i in A:\n",
    "        CQA_1={}\n",
    "        for j in S:\n",
    "            CQA_1[j]=CQA_csv[j][count]\n",
    "        CQA[i]=CQA_1\n",
    "        count+=1\n",
    "    \n",
    "    CGA_csv_np=CGA_csv.to_numpy()\n",
    "    CGA={}\n",
    "    count=0\n",
    "    for i in A:\n",
    "        CGA_1={}\n",
    "        for j in S:\n",
    "            CGA_1[j]=CGA_csv[j][count]\n",
    "        CGA[i]=CGA_1\n",
    "        count+=1 \n",
    "        \n",
    "    CQB_csv_np=CQB_csv.to_numpy()\n",
    "    CQB={}\n",
    "    count=0\n",
    "    for i in A:\n",
    "        CQB_1={}\n",
    "        for j in S:\n",
    "            CQB_1[j]=CQB_csv[j][count]\n",
    "        CQB[i]=CQB_1\n",
    "        count+=1 \n",
    "    \n",
    "    DA_np = DA_csv.to_numpy()\n",
    "    DA={}\n",
    "    for i in range(0,len(A)):\n",
    "        DA[A[i]]=DA_np[i][1]\n",
    "        \n",
    "    DB_np = DB_csv.to_numpy()\n",
    "    DB={}\n",
    "    for i in range(0,len(A)):\n",
    "        DB[A[i]]=DB_np[i][1]\n",
    "    \n",
    "    return S,A,CQA,CGA,CQB,DA,DB"
   ]
  },
  {
   "cell_type": "code",
   "execution_count": null,
   "id": "5c99598f",
   "metadata": {},
   "outputs": [],
   "source": [
    "S,A,CQA,CGA,CQB,DA,DB= ReadInstance(CGA_csv,CQA_csv,CQB_csv,DA_csv,DB_csv)"
   ]
  },
  {
   "cell_type": "code",
   "execution_count": null,
   "id": "6cbde27c",
   "metadata": {},
   "outputs": [],
   "source": [
    "m1 = GRB.Model('option1')\n",
    "\n",
    "# material A procured from X\n",
    "XQA = m1.addVars(A, S, name=\"material A procured from X\") \n",
    "# material A procured from Y\n",
    "XGA = m1.addVars(A, S, name=\"material A procured from Y\") \n",
    "# material B procured from X\n",
    "XQB = m1.addVars(A, S, name=\"material B procured from X\") "
   ]
  },
  {
   "cell_type": "code",
   "execution_count": null,
   "id": "51bd3ada",
   "metadata": {},
   "outputs": [],
   "source": [
    "## Objective Function\n",
    "objective1=(GRB.quicksum(XGA[a,s]*CGA[a][s]+ XQA[a,s]*CQA[a][s]+XQB[a,s]*CQB[a][s] \n",
    "                            for a in A for s in S))\n",
    "\n",
    "m1.setObjective(objective1)"
   ]
  },
  {
   "cell_type": "code",
   "execution_count": null,
   "id": "b2cb26f0",
   "metadata": {},
   "outputs": [],
   "source": [
    "# Constraints\n",
    "# No supplier would be awarded more than 50% of the total supply contract.\n",
    "m1.addConstrs((GRB.quicksum(XQA[a,s] + XGA[a,s] + XQB[a,s] for a in A)\n",
    "                 <=  0.5  * (DA_csv['Quantity (tn)'].sum()+DB_csv['Quantity (tn)'].sum()) for s in S),name=\"HalfSupply\")"
   ]
  },
  {
   "cell_type": "code",
   "execution_count": null,
   "id": "a346249b",
   "metadata": {},
   "outputs": [],
   "source": [
    "# Supplier 2 could only supply a maximum of 300,000 tons of A\n",
    "m1.addConstr((GRB.quicksum(XGA[a,'Supplier 2'] for a in A) <= 300000 ),name=\"Supplier2Constraint\")"
   ]
  },
  {
   "cell_type": "code",
   "execution_count": null,
   "id": "ccc59baa",
   "metadata": {},
   "outputs": [],
   "source": [
    "# Supplier 4’s total maximum capacity is about 1,000,000 tons.\n",
    "m1.addConstr((GRB.quicksum(XGA[a,'Supplier 4']+XQA[a, 'Supplier 4']+XQB[a, 'Supplier 4'] for a in A)<= 1000000 ),  \n",
    "                 name=\"Supplier4Constraint\")"
   ]
  },
  {
   "cell_type": "code",
   "execution_count": null,
   "id": "a7925ff7",
   "metadata": {},
   "outputs": [],
   "source": [
    "# Supplier 7’s total maximum delivery capacity was 300,000 tons.\n",
    "m1.addConstr(GRB.quicksum(XGA[a,'Supplier 7']+XQA[a,'Supplier 7']+XQB[a,'Supplier 7'] for a in A) <= 300000,  \n",
    "                 name=\"Supplier7Constraint\")"
   ]
  },
  {
   "cell_type": "code",
   "execution_count": null,
   "id": "766608e1",
   "metadata": {},
   "outputs": [],
   "source": [
    "# The quantity procured of A should satisfy the demand of A.\n",
    "m1.addConstrs((GRB.quicksum(XGA[a,s]+XQA[a,s] for s in S) == DA[a] for a in A),  \n",
    "                 name=\"DemandA\")# The quantity procured of A should satisfy the demand of A.\n",
    "m1.addConstrs((GRB.quicksum(XGA[a,s]+XQA[a,s] for s in S) == DA[a] for a in A),  \n",
    "                 name=\"DemandA\")"
   ]
  },
  {
   "cell_type": "code",
   "execution_count": null,
   "id": "354711b7",
   "metadata": {},
   "outputs": [],
   "source": [
    "# The quantity procured of B should satisfy the demand of B.\n",
    "m1.addConstrs((GRB.quicksum(XQB[a,s] for s in S) == DB[a] for a in A),  \n",
    "                 name=\"DemandB\")"
   ]
  },
  {
   "cell_type": "markdown",
   "id": "bc37eac5",
   "metadata": {},
   "source": [
    "### Results "
   ]
  },
  {
   "cell_type": "code",
   "execution_count": null,
   "id": "010ccc75",
   "metadata": {},
   "outputs": [],
   "source": [
    "# Compute optimal solution\n",
    "m1.optimize()"
   ]
  }
 ],
 "metadata": {
  "kernelspec": {
   "display_name": "Python 3 (ipykernel)",
   "language": "python",
   "name": "python3"
  },
  "language_info": {
   "codemirror_mode": {
    "name": "ipython",
    "version": 3
   },
   "file_extension": ".py",
   "mimetype": "text/x-python",
   "name": "python",
   "nbconvert_exporter": "python",
   "pygments_lexer": "ipython3",
   "version": "3.8.12"
  }
 },
 "nbformat": 4,
 "nbformat_minor": 5
}
